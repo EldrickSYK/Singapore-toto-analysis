{
 "cells": [
  {
   "cell_type": "markdown",
   "metadata": {},
   "source": [
    "# Singapore Pools Winning Statistics Analysis\n",
    "\n",
    "This notebook consists of 2 parts: \n",
    "\n",
    "1) 4D Analysis \n",
    "\n",
    "2) Toto Analysis"
   ]
  },
  {
   "cell_type": "code",
   "execution_count": 2,
   "metadata": {},
   "outputs": [],
   "source": [
    "from datetime import datetime\n",
    "\n",
    "import numpy as np\n",
    "import pandas as pd\n",
    "import matplotlib.pyplot as plt\n",
    "\n",
    "import requests\n",
    "import bs4\n",
    "from bs4 import BeautifulSoup\n",
    "\n",
    "from lightgbm import LGBMClassifier\n",
    "from sklearn.model_selection import GridSearchCV"
   ]
  },
  {
   "cell_type": "code",
   "execution_count": 6,
   "metadata": {},
   "outputs": [],
   "source": [
    "### Configs / Constants ###\n",
    "FD_DRAW_LIST_URL = 'http://www.singaporepools.com.sg/DataFileArchive/Lottery/Output/fourd_result_draw_list_en.html'\n",
    "FD_RESULT_URL = 'http://www.singaporepools.com.sg/en/product/Pages/4d_results.aspx?sppl='\n",
    "TOTO_DRAW_LIST_URL = 'http://www.singaporepools.com.sg/DataFileArchive/Lottery/Output/toto_result_draw_list_en.html'\n",
    "TOTO_RESULT_URL = 'http://www.singaporepools.com.sg/en/product/sr/Pages/toto_results.aspx?sppl='\n",
    "\n",
    "PARSER_NAME = 'html.parser'\n",
    "\n",
    "SPPL_ATTR = 'querystring'\n",
    "SPPL_TAG = 'option'\n",
    "\n",
    "DT_FORMAT = '%d %b %Y'\n",
    "DRAW_DATE_CLASS = 'drawDate'\n",
    "\n",
    "FD_FIRST_PRIZE_CLASS = 'tdFirstPrize'\n",
    "FD_SECOND_PRIZE_CLASS = 'tdSecondPrize'\n",
    "FD_THIRD_PRIZE_CLASS = 'tdThirdPrize'\n",
    "FD_STARTER_PRIZE_CLASS = 'tbodyStarterPrizes'\n",
    "FD_CONSOLATION_PRIZE_CLASS = 'tbodyConsolationPrizes'\n",
    "\n",
    "FD_STARTER_PRIZE_CSS_SEL = ' '.join(['.' + FD_STARTER_PRIZE_CLASS, 'td'])\n",
    "FD_CONSOLAION_PRIZE_CSS_SEL = ' '.join(['.' + FD_CONSOLATION_PRIZE_CLASS, 'td'])\n",
    "\n",
    "TOTO_WIN_CLASS = 'win'\n",
    "TOTO_ADDITIONAL_CLASS = 'additional'\n",
    "\n",
    "TOTO_WIN_CSS_SEL = TOTO_WIN_CLASS\n",
    "TOTO_ADDITIONAL_CSS_SEL = '.' + TOTO_ADDITIONAL_CLASS\n",
    "\n",
    "FD_LAST_N_DRAWS = 10\n",
    "TOTO_LAST_N_DRAWS = 50\n",
    "\n",
    "TOTO_OUTLETS = 'divWinningOutlets'\n",
    "\n",
    "LOSE = 'Lose'"
   ]
  },
  {
   "cell_type": "markdown",
   "metadata": {},
   "source": [
    "# Part I: 4D Analysis"
   ]
  },
  {
   "cell_type": "code",
   "execution_count": 4,
   "metadata": {},
   "outputs": [],
   "source": [
    "%%time\n",
    "### Get 4D Draw List ###\n",
    "fd_draw_list_page = requests.get(FD_DRAW_LIST_URL)\n",
    "fd_draw_list_soup = BeautifulSoup(fd_draw_list_page.content, PARSER_NAME)\n",
    "fd_sppl_ids = [draw.get(SPPL_ATTR).rpartition('=')[2] for draw in fd_draw_list_soup.find_all(SPPL_TAG)]\n",
    "\n",
    "\n",
    "### Iterate through 4D Draw List to Consolidate 4D Results ###\n",
    "fd_result_list = []\n",
    "i = 0\n",
    "for fd_sppl_id in fd_sppl_ids:\n",
    "    i += 1\n",
    "    if i > FD_LAST_N_DRAWS:\n",
    "        break\n",
    "\n",
    "    fd_result_page = requests.get(FD_RESULT_URL + fd_sppl_id)\n",
    "    fd_result_soup = BeautifulSoup(fd_result_page.content, PARSER_NAME)\n",
    "    \n",
    "    fd_result_dt = datetime.strptime(\n",
    "        fd_result_soup.find_all(\n",
    "            class_=DRAW_DATE_CLASS\n",
    "        )[0].get_text().rpartition(', ')[2], \n",
    "        DT_FORMAT\n",
    "    )\n",
    "    fd_result_first_prize = fd_result_soup.find_all(class_=FD_FIRST_PRIZE_CLASS)[0].get_text()\n",
    "    fd_result_second_prize = fd_result_soup.find_all(class_=FD_SECOND_PRIZE_CLASS)[0].get_text()\n",
    "    fd_result_third_prize = fd_result_soup.find_all(class_=FD_THIRD_PRIZE_CLASS)[0].get_text()\n",
    "    fd_result_starter_prize_list = [\n",
    "        fd_prize_num.get_text() \n",
    "        for fd_prize_num \n",
    "        in fd_result_soup.select(FD_STARTER_PRIZE_CSS_SEL)\n",
    "    ]\n",
    "    fd_result_consolation_prize_list = [\n",
    "        fd_prize_num.get_text() \n",
    "        for fd_prize_num \n",
    "        in fd_result_soup.select(FD_CONSOLAION_PRIZE_CSS_SEL)\n",
    "    ]\n",
    "    fd_result_round_prize_list = fd_result_consolation_prize_list \\\n",
    "                        + fd_result_starter_prize_list \\\n",
    "                        + [fd_result_first_prize, fd_result_second_prize, fd_result_third_prize]\n",
    "    \n",
    "    fd_result_list.append([fd_result_dt, fd_result_first_prize, FD_FIRST_PRIZE_CLASS])\n",
    "    fd_result_list.append([fd_result_dt, fd_result_second_prize, FD_SECOND_PRIZE_CLASS])\n",
    "    fd_result_list.append([fd_result_dt, fd_result_third_prize, FD_THIRD_PRIZE_CLASS])\n",
    "    for fd_prize_num in fd_result_starter_prize_list:\n",
    "        fd_result_list.append([fd_result_dt, fd_prize_num, FD_STARTER_PRIZE_CLASS])\n",
    "    for fd_prize_num in fd_result_consolation_prize_list:\n",
    "        fd_result_list.append([fd_result_dt, fd_prize_num, FD_CONSOLATION_PRIZE_CLASS])\n",
    "        \n",
    "    fd_result_round_lose_numbers = [\n",
    "        [fd_result_dt, str(num).zfill(4), LOSE] \n",
    "        for num in range(10000) \n",
    "        if str(num).zfill(4) not in fd_result_round_prize_list\n",
    "    ]\n",
    "    for fd_lose_set in fd_result_round_lose_numbers:\n",
    "        fd_result_list.append(fd_lose_set)\n",
    "        \n",
    "\n",
    "### Present Findings in pd DataFrame ###\n",
    "fd_result_df = pd.DataFrame(np.array(fd_result_list), columns=['Date', 'Prize Number', 'Prize Type'])\n",
    "fd_result_df.set_index('Date', inplace=True)\n",
    "fd_result_df['Win'] = (fd_result_df['Prize Type'] != LOSE).replace(True, 1)\n",
    "\n",
    "### Get individual digits of winning number + some feature engineering ###\n",
    "fd_position_set = ('First', 'Second', 'Third', 'Fourth')\n",
    "fd_number_set = ('Zero', 'One', 'Two', 'Three', 'Four', 'Five', 'Six', 'Seven', 'Eight', 'Nine')\n",
    "\n",
    "#### Feature for numbers in each digit position ####\n",
    "for i, position in enumerate(fd_position_set):\n",
    "    column_name = position + ' Digit'\n",
    "    fd_result_df[column_name] = fd_result_df['Prize Number'].str[i]\n",
    "\n",
    "#### One hot features for each position + number combination ####\n",
    "for i, position in enumerate(fd_position_set):\n",
    "    for j, number in enumerate(fd_number_set):\n",
    "        column_name = position + ' Digit ' + number\n",
    "        fd_result_df[column_name] = (fd_result_df['Prize Number'].str[i] == str(j)).replace(True, 1)\n",
    "\n",
    "#### One hot features for number ####\n",
    "for k, number in enumerate(fd_number_set):\n",
    "    column_name = 'Has ' + number\n",
    "    fd_result_df[column_name] = fd_result_df['Prize Number'].str.contains(str(k)).replace(True, 1)\n"
   ]
  },
  {
   "cell_type": "code",
   "execution_count": 5,
   "metadata": {},
   "outputs": [],
   "source": [
    "### Data Analysis for visualization ###\n",
    "prize_num_freq = fd_result_df[fd_result_df['Prize Type'] != LOSE].groupby(['Prize Number']).count().iloc[:, 0].sort_values(ascending=False)\n",
    "first_digit_freq = fd_result_df[fd_result_df['Prize Type'] != LOSE].groupby('First Digit').count().iloc[:, 0]\n",
    "second_digit_freq = fd_result_df[fd_result_df['Prize Type'] != LOSE].groupby('Second Digit').count().iloc[:, 0]\n",
    "third_digit_freq = fd_result_df[fd_result_df['Prize Type'] != LOSE].groupby('Third Digit').count().iloc[:, 0]\n",
    "fourth_digit_freq = fd_result_df[fd_result_df['Prize Type'] != LOSE].groupby('Fourth Digit').count().iloc[:, 0]\n",
    "digit_freq = fd_result_df[fd_result_df['Prize Type'] != LOSE].iloc[:, -10:].sum()"
   ]
  },
  {
   "cell_type": "code",
   "execution_count": 10,
   "metadata": {},
   "outputs": [
    {
     "data": {
      "image/png": "[encoded data removed]",
      "text/plain": [
       "<Figure size 432x288 with 1 Axes>"
      ]
     },
     "metadata": {
      "needs_background": "light"
     },
     "output_type": "display_data"
    }
   ],
   "source": [
    "### Analysis of Digits ###\n",
    "plt.plot(first_digit_freq, label='1st Digit')\n",
    "plt.plot(second_digit_freq, label='2nd Digit')\n",
    "plt.plot(third_digit_freq, label='3rd Digit')\n",
    "plt.plot(fourth_digit_freq, label='4th Digit')\n",
    "plt.plot([i for i in range(10)], digit_freq, label='Overall')\n",
    "plt.title('Digits Analysis for Winning Numbers in 4D', fontdict={'fontsize':15, 'fontweight':'bold'})\n",
    "plt.xlabel('Number')\n",
    "plt.ylabel('Frequency')\n",
    "plt.legend()\n",
    "plt.show()"
   ]
  },
  {
   "cell_type": "markdown",
   "metadata": {},
   "source": [
    "## Some findings from the above plot:\n",
    "* Number \"1\" occurs quite frequently as the 1st digit\n",
    "* Occurences of all numbers in the 2nd digit appears to be quite balanced\n",
    "* Number \"4\" occurs quite frequently as the 3rd digit\n",
    "* Number \"6\" occurs quite frequently as the 4th digit\n",
    "* Number \"5\" occurs the least frequently"
   ]
  },
  {
   "cell_type": "markdown",
   "metadata": {},
   "source": [
    "## Attempt to use Light GBM as an estimator\n",
    "* Use of GridSearch to optimize estimator's parameters\n",
    "* Use <strong>scoring='average_precision'</strong> to pick model that has higher rates of picking true positives out of all positives\n",
    "  * After all for winning numbers that we cannot predict (i.e. False Negatives), the cost of missing them (i.e. cost of lower recall) is <strong>lower</strong> than the cost of not being able to pick the correct winning numbers (i.e. cost of precision)"
   ]
  },
  {
   "cell_type": "code",
   "execution_count": 11,
   "metadata": {},
   "outputs": [
    {
     "name": "stdout",
     "output_type": "stream",
     "text": [
      "Time taken for Grid Search:  0:00:08.062435\n",
      "Best score for lgbmc:  0.0029600191390077657\n",
      "Best params for lgbmc:  {'max_depth': 2, 'n_estimators': 10, 'n_jobs': 2, 'reg_lambda': 0}\n"
     ]
    }
   ],
   "source": [
    "### Read Data ###\n",
    "X_train = fd_result_df.iloc[:, 7:]\n",
    "Y_train = fd_result_df.iloc[:, 2]\n",
    "\n",
    "### GridSearchCV on LightGBM Params ###\n",
    "lgbmc = LGBMClassifier()\n",
    "param_grid = [\n",
    "    {\n",
    "        'n_jobs': [2],\n",
    "        'n_estimators': [3, 5, 10],\n",
    "        'max_depth': [2],\n",
    "        'reg_lambda': [0]\n",
    "    }\n",
    "]\n",
    "\n",
    "start_time = datetime.now()\n",
    "gscv = GridSearchCV(estimator=lgbmc, n_jobs=2, cv=5, param_grid=param_grid, scoring='average_precision')\n",
    "gscv.fit(X_train, Y_train)\n",
    "end_time = datetime.now()\n",
    "print('Time taken for Grid Search: ', end_time - start_time)\n",
    "print('Best score for lgbmc: ', gscv.best_score_)\n",
    "print('Best params for lgbmc: ', gscv.best_params_)\n",
    "\n",
    "### Set best estimator from GridSearchCV ###\n",
    "lgbmc = gscv.best_estimator_"
   ]
  },
  {
   "cell_type": "code",
   "execution_count": 12,
   "metadata": {},
   "outputs": [
    {
     "name": "stdout",
     "output_type": "stream",
     "text": [
      "Predicting top 10 4D winning numbers: \n"
     ]
    },
    {
     "data": {
      "text/html": [
       "<style  type=\"text/css\" >\n",
       "</style><table id=\"T_64584836_c35a_11e9_90ce_f430b9c5d8b0\" ><thead>    <tr>        <th class=\"blank level0\" ></th>        <th class=\"col_heading level0 col0\" >Prize Number</th>        <th class=\"col_heading level0 col1\" >Win</th>    </tr></thead><tbody>\n",
       "                <tr>\n",
       "                        <th id=\"T_64584836_c35a_11e9_90ce_f430b9c5d8b0level0_row0\" class=\"row_heading level0 row0\" >1243</th>\n",
       "                        <td id=\"T_64584836_c35a_11e9_90ce_f430b9c5d8b0row0_col0\" class=\"data row0 col0\" >1243</td>\n",
       "                        <td id=\"T_64584836_c35a_11e9_90ce_f430b9c5d8b0row0_col1\" class=\"data row0 col1\" >0.00514553</td>\n",
       "            </tr>\n",
       "            <tr>\n",
       "                        <th id=\"T_64584836_c35a_11e9_90ce_f430b9c5d8b0level0_row1\" class=\"row_heading level0 row1\" >1043</th>\n",
       "                        <td id=\"T_64584836_c35a_11e9_90ce_f430b9c5d8b0row1_col0\" class=\"data row1 col0\" >1043</td>\n",
       "                        <td id=\"T_64584836_c35a_11e9_90ce_f430b9c5d8b0row1_col1\" class=\"data row1 col1\" >0.00514553</td>\n",
       "            </tr>\n",
       "            <tr>\n",
       "                        <th id=\"T_64584836_c35a_11e9_90ce_f430b9c5d8b0level0_row2\" class=\"row_heading level0 row2\" >1843</th>\n",
       "                        <td id=\"T_64584836_c35a_11e9_90ce_f430b9c5d8b0row2_col0\" class=\"data row2 col0\" >1843</td>\n",
       "                        <td id=\"T_64584836_c35a_11e9_90ce_f430b9c5d8b0row2_col1\" class=\"data row2 col1\" >0.00514553</td>\n",
       "            </tr>\n",
       "            <tr>\n",
       "                        <th id=\"T_64584836_c35a_11e9_90ce_f430b9c5d8b0level0_row3\" class=\"row_heading level0 row3\" >1643</th>\n",
       "                        <td id=\"T_64584836_c35a_11e9_90ce_f430b9c5d8b0row3_col0\" class=\"data row3 col0\" >1643</td>\n",
       "                        <td id=\"T_64584836_c35a_11e9_90ce_f430b9c5d8b0row3_col1\" class=\"data row3 col1\" >0.00514553</td>\n",
       "            </tr>\n",
       "            <tr>\n",
       "                        <th id=\"T_64584836_c35a_11e9_90ce_f430b9c5d8b0level0_row4\" class=\"row_heading level0 row4\" >1443</th>\n",
       "                        <td id=\"T_64584836_c35a_11e9_90ce_f430b9c5d8b0row4_col0\" class=\"data row4 col0\" >1443</td>\n",
       "                        <td id=\"T_64584836_c35a_11e9_90ce_f430b9c5d8b0row4_col1\" class=\"data row4 col1\" >0.00514553</td>\n",
       "            </tr>\n",
       "            <tr>\n",
       "                        <th id=\"T_64584836_c35a_11e9_90ce_f430b9c5d8b0level0_row5\" class=\"row_heading level0 row5\" >1343</th>\n",
       "                        <td id=\"T_64584836_c35a_11e9_90ce_f430b9c5d8b0row5_col0\" class=\"data row5 col0\" >1343</td>\n",
       "                        <td id=\"T_64584836_c35a_11e9_90ce_f430b9c5d8b0row5_col1\" class=\"data row5 col1\" >0.00514553</td>\n",
       "            </tr>\n",
       "            <tr>\n",
       "                        <th id=\"T_64584836_c35a_11e9_90ce_f430b9c5d8b0level0_row6\" class=\"row_heading level0 row6\" >1143</th>\n",
       "                        <td id=\"T_64584836_c35a_11e9_90ce_f430b9c5d8b0row6_col0\" class=\"data row6 col0\" >1143</td>\n",
       "                        <td id=\"T_64584836_c35a_11e9_90ce_f430b9c5d8b0row6_col1\" class=\"data row6 col1\" >0.00514553</td>\n",
       "            </tr>\n",
       "            <tr>\n",
       "                        <th id=\"T_64584836_c35a_11e9_90ce_f430b9c5d8b0level0_row7\" class=\"row_heading level0 row7\" >1743</th>\n",
       "                        <td id=\"T_64584836_c35a_11e9_90ce_f430b9c5d8b0row7_col0\" class=\"data row7 col0\" >1743</td>\n",
       "                        <td id=\"T_64584836_c35a_11e9_90ce_f430b9c5d8b0row7_col1\" class=\"data row7 col1\" >0.00514553</td>\n",
       "            </tr>\n",
       "            <tr>\n",
       "                        <th id=\"T_64584836_c35a_11e9_90ce_f430b9c5d8b0level0_row8\" class=\"row_heading level0 row8\" >1943</th>\n",
       "                        <td id=\"T_64584836_c35a_11e9_90ce_f430b9c5d8b0row8_col0\" class=\"data row8 col0\" >1943</td>\n",
       "                        <td id=\"T_64584836_c35a_11e9_90ce_f430b9c5d8b0row8_col1\" class=\"data row8 col1\" >0.00514553</td>\n",
       "            </tr>\n",
       "            <tr>\n",
       "                        <th id=\"T_64584836_c35a_11e9_90ce_f430b9c5d8b0level0_row9\" class=\"row_heading level0 row9\" >1644</th>\n",
       "                        <td id=\"T_64584836_c35a_11e9_90ce_f430b9c5d8b0row9_col0\" class=\"data row9 col0\" >1644</td>\n",
       "                        <td id=\"T_64584836_c35a_11e9_90ce_f430b9c5d8b0row9_col1\" class=\"data row9 col1\" >0.00425899</td>\n",
       "            </tr>\n",
       "    </tbody></table>"
      ],
      "text/plain": [
       "<pandas.io.formats.style.Styler at 0x1ebf1ff5488>"
      ]
     },
     "execution_count": 12,
     "metadata": {},
     "output_type": "execute_result"
    }
   ],
   "source": [
    "### Preparing Test Data ###\n",
    "X_test = pd.DataFrame(np.array([str(num).zfill(4) for num in range(10000)]), columns=['Prize Number'])\n",
    "\n",
    "#### One hot features for each position + number combination ####\n",
    "for i, position in enumerate(fd_position_set):\n",
    "    for j, number in enumerate(fd_number_set):\n",
    "        column_name = position + ' Digit ' + number\n",
    "        X_test[column_name] = (X_test['Prize Number'].str[i] == str(j)).replace(True, 1)\n",
    "\n",
    "#### One hot features for number ####\n",
    "for k, number in enumerate(fd_number_set):\n",
    "    column_name = 'Has ' + number\n",
    "    X_test[column_name] = X_test['Prize Number'].str.contains(str(k)).replace(True, 1)\n",
    "\n",
    "    \n",
    "### Predicting 'Best' 4D Number ###\n",
    "Y_pred = pd.DataFrame(lgbmc.predict_proba(X_test.iloc[:, 1:]), columns=['Lose', 'Win'])\n",
    "XY_pred_join = pd.concat([X_test.loc[:, 'Prize Number'], Y_pred.loc[:, 'Win']], axis=1)\n",
    "print('Predicting top 10 4D winning numbers: ')\n",
    "XY_pred_join.sort_values('Win', ascending=False).head(10).style"
   ]
  },
  {
   "cell_type": "markdown",
   "metadata": {},
   "source": [
    "<i style=\"color: green\">^^My 4D prediction above (take it with a pinch of salt, only 0.5% confident :P)</i>"
   ]
  },
  {
   "cell_type": "markdown",
   "metadata": {},
   "source": [
    "## <i> Activity for 4D Analysis </i>\n",
    "### Try to replace the number below in '<i style=\"color: blue\">fd_user_number</i>' variable, and execute the below block to get the probability of winning!"
   ]
  },
  {
   "cell_type": "code",
   "execution_count": 38,
   "metadata": {},
   "outputs": [],
   "source": [
    "fd_user_number = '1204'"
   ]
  },
  {
   "cell_type": "code",
   "execution_count": 39,
   "metadata": {},
   "outputs": [
    {
     "name": "stdout",
     "output_type": "stream",
     "text": [
      "Your probability of winning for number 1204: 0.237575064857751%\n"
     ]
    }
   ],
   "source": [
    "### Prep data for feature engineering before prediction ###\n",
    "fd_user_number_df = pd.DataFrame(np.array([fd_user_number]), columns=['Prize Number'])\n",
    "\n",
    "#### One hot features for each position + number combination ####\n",
    "for i, position in enumerate(fd_position_set):\n",
    "    for j, number in enumerate(fd_number_set):\n",
    "        column_name = position + ' Digit ' + number\n",
    "        fd_user_number_df[column_name] = (fd_user_number_df['Prize Number'].str[i] == str(j)).replace(True, 1).replace(False, 0)\n",
    "\n",
    "#### One hot features for number ####\n",
    "for k, number in enumerate(fd_number_set):\n",
    "    column_name = 'Has ' + number\n",
    "    fd_user_number_df[column_name] = fd_user_number_df['Prize Number'].str.contains(str(k)).replace(True, 1).replace(False, 0)\n",
    "    \n",
    "print('Your probability of winning for number {}: {}%'.format(\n",
    "    fd_user_number,\n",
    "    lgbmc.predict_proba(fd_user_number_df.iloc[:, 1:])[:, 1][0] * 100)\n",
    "     )"
   ]
  },
  {
   "cell_type": "markdown",
   "metadata": {},
   "source": [
    "# Part II: Toto Numbers Analysis"
   ]
  },
  {
   "cell_type": "code",
   "execution_count": 7,
   "metadata": {},
   "outputs": [
    {
     "name": "stdout",
     "output_type": "stream",
     "text": [
      "Wall time: 15.1 s\n"
     ]
    }
   ],
   "source": [
    "%%time\n",
    "### Get Toto Draw List ###\n",
    "toto_draw_list_page = requests.get(TOTO_DRAW_LIST_URL)\n",
    "toto_draw_list_soup = BeautifulSoup(toto_draw_list_page.content, PARSER_NAME)\n",
    "toto_sppl_ids = [draw.get(SPPL_ATTR).rpartition('=')[2] for draw in toto_draw_list_soup.find_all(SPPL_TAG)]\n",
    "\n",
    "### Iterate through draw list and consolidate results ###\n",
    "toto_result_list = []\n",
    "i = 0\n",
    "for toto_sppl_id in toto_sppl_ids:\n",
    "    i += 1\n",
    "    if i > TOTO_LAST_N_DRAWS:\n",
    "        break\n",
    "    toto_result_page = requests.get(TOTO_RESULT_URL + toto_sppl_id)\n",
    "    toto_result_soup = BeautifulSoup(toto_result_page.content, PARSER_NAME)\n",
    "    toto_result_dt = datetime.strptime(\n",
    "        toto_result_soup.find_all(class_=DRAW_DATE_CLASS)[0].get_text().rpartition(', ')[2], \n",
    "        DT_FORMAT\n",
    "    )\n",
    "    toto_prize_numbers = [\n",
    "        int(toto_prize_num.get_text())\n",
    "        for toto_prize_num \n",
    "        in toto_result_soup.find_all('td', {'class': lambda x: x and x.startswith(TOTO_WIN_CSS_SEL)})\n",
    "    ]\n",
    "    toto_additional_number = int(toto_result_soup.select(TOTO_ADDITIONAL_CSS_SEL)[0].get_text())\n",
    "    toto_lose_numbers = [\n",
    "        toto_lose_number for toto_lose_number in range(1, 50) \n",
    "        if toto_lose_number not in toto_prize_numbers\n",
    "        and toto_lose_number != toto_additional_number\n",
    "    ]\n",
    "    \n",
    "    toto_result_list.append([toto_result_dt, toto_additional_number, TOTO_ADDITIONAL_CLASS])\n",
    "    for toto_prize_num in toto_prize_numbers:\n",
    "        toto_result_list.append([toto_result_dt, toto_prize_num, TOTO_WIN_CLASS])\n",
    "    for toto_lose_num in toto_lose_numbers:\n",
    "        toto_result_list.append([toto_result_dt, toto_lose_num, LOSE])\n",
    "    \n",
    "    ### Check for G1 Winners ###\n",
    "    has_g1_winners = len(toto_result_soup.select('.divWinningOutlets > div + p + ul')) != 0\n",
    "    ### Check for G2 Winners ###\n",
    "    has_g2_winners = len(toto_result_soup.select('.divWinningOutlets > div + p ~ p + ul')) != 0\n",
    "    \n",
    "    \n",
    "### Present Findings in pd DataFrame ###\n",
    "toto_result_df = pd.DataFrame(np.array(toto_result_list), columns=['Date', 'Win Number', 'Win Type'])\n",
    "toto_result_df.set_index('Date', inplace=True)\n",
    "toto_result_df['Win'] = (toto_result_df['Win Type'] != LOSE).replace(True, 1)"
   ]
  },
  {
   "cell_type": "code",
   "execution_count": 8,
   "metadata": {},
   "outputs": [
    {
     "data": {
      "text/html": [
       "<div>\n",
       "<style scoped>\n",
       "    .dataframe tbody tr th:only-of-type {\n",
       "        vertical-align: middle;\n",
       "    }\n",
       "\n",
       "    .dataframe tbody tr th {\n",
       "        vertical-align: top;\n",
       "    }\n",
       "\n",
       "    .dataframe thead th {\n",
       "        text-align: right;\n",
       "    }\n",
       "</style>\n",
       "<table border=\"1\" class=\"dataframe\">\n",
       "  <thead>\n",
       "    <tr style=\"text-align: right;\">\n",
       "      <th></th>\n",
       "      <th>Win Number</th>\n",
       "      <th>Win Type</th>\n",
       "      <th>Win</th>\n",
       "    </tr>\n",
       "    <tr>\n",
       "      <th>Date</th>\n",
       "      <th></th>\n",
       "      <th></th>\n",
       "      <th></th>\n",
       "    </tr>\n",
       "  </thead>\n",
       "  <tbody>\n",
       "    <tr>\n",
       "      <th>2019-08-22</th>\n",
       "      <td>31</td>\n",
       "      <td>additional</td>\n",
       "      <td>1.0</td>\n",
       "    </tr>\n",
       "    <tr>\n",
       "      <th>2019-08-22</th>\n",
       "      <td>1</td>\n",
       "      <td>win</td>\n",
       "      <td>1.0</td>\n",
       "    </tr>\n",
       "    <tr>\n",
       "      <th>2019-08-22</th>\n",
       "      <td>14</td>\n",
       "      <td>win</td>\n",
       "      <td>1.0</td>\n",
       "    </tr>\n",
       "    <tr>\n",
       "      <th>2019-08-22</th>\n",
       "      <td>25</td>\n",
       "      <td>win</td>\n",
       "      <td>1.0</td>\n",
       "    </tr>\n",
       "    <tr>\n",
       "      <th>2019-08-22</th>\n",
       "      <td>28</td>\n",
       "      <td>win</td>\n",
       "      <td>1.0</td>\n",
       "    </tr>\n",
       "  </tbody>\n",
       "</table>\n",
       "</div>"
      ],
      "text/plain": [
       "           Win Number    Win Type  Win\n",
       "Date                                  \n",
       "2019-08-22         31  additional  1.0\n",
       "2019-08-22          1         win  1.0\n",
       "2019-08-22         14         win  1.0\n",
       "2019-08-22         25         win  1.0\n",
       "2019-08-22         28         win  1.0"
      ]
     },
     "execution_count": 8,
     "metadata": {},
     "output_type": "execute_result"
    }
   ],
   "source": [
    "### Sample of toto result dataframe ###\n",
    "toto_result_df.head()"
   ]
  },
  {
   "cell_type": "code",
   "execution_count": 92,
   "metadata": {},
   "outputs": [
    {
     "name": "stdout",
     "output_type": "stream",
     "text": [
      "Winning Number Frequencies\n"
     ]
    },
    {
     "data": {
      "text/html": [
       "<style  type=\"text/css\" >\n",
       "</style><table id=\"T_f99783fa_c73c_11e9_a44d_f430b9c5d8b0\" ><thead>    <tr>        <th class=\"blank level0\" ></th>        <th class=\"col_heading level0 col0\" >Count</th>    </tr>    <tr>        <th class=\"index_name level0\" >Win Number</th>        <th class=\"blank\" ></th>    </tr></thead><tbody>\n",
       "                <tr>\n",
       "                        <th id=\"T_f99783fa_c73c_11e9_a44d_f430b9c5d8b0level0_row0\" class=\"row_heading level0 row0\" >4</th>\n",
       "                        <td id=\"T_f99783fa_c73c_11e9_a44d_f430b9c5d8b0row0_col0\" class=\"data row0 col0\" >15</td>\n",
       "            </tr>\n",
       "            <tr>\n",
       "                        <th id=\"T_f99783fa_c73c_11e9_a44d_f430b9c5d8b0level0_row1\" class=\"row_heading level0 row1\" >31</th>\n",
       "                        <td id=\"T_f99783fa_c73c_11e9_a44d_f430b9c5d8b0row1_col0\" class=\"data row1 col0\" >13</td>\n",
       "            </tr>\n",
       "            <tr>\n",
       "                        <th id=\"T_f99783fa_c73c_11e9_a44d_f430b9c5d8b0level0_row2\" class=\"row_heading level0 row2\" >15</th>\n",
       "                        <td id=\"T_f99783fa_c73c_11e9_a44d_f430b9c5d8b0row2_col0\" class=\"data row2 col0\" >11</td>\n",
       "            </tr>\n",
       "            <tr>\n",
       "                        <th id=\"T_f99783fa_c73c_11e9_a44d_f430b9c5d8b0level0_row3\" class=\"row_heading level0 row3\" >30</th>\n",
       "                        <td id=\"T_f99783fa_c73c_11e9_a44d_f430b9c5d8b0row3_col0\" class=\"data row3 col0\" >10</td>\n",
       "            </tr>\n",
       "            <tr>\n",
       "                        <th id=\"T_f99783fa_c73c_11e9_a44d_f430b9c5d8b0level0_row4\" class=\"row_heading level0 row4\" >5</th>\n",
       "                        <td id=\"T_f99783fa_c73c_11e9_a44d_f430b9c5d8b0row4_col0\" class=\"data row4 col0\" >10</td>\n",
       "            </tr>\n",
       "            <tr>\n",
       "                        <th id=\"T_f99783fa_c73c_11e9_a44d_f430b9c5d8b0level0_row5\" class=\"row_heading level0 row5\" >26</th>\n",
       "                        <td id=\"T_f99783fa_c73c_11e9_a44d_f430b9c5d8b0row5_col0\" class=\"data row5 col0\" >10</td>\n",
       "            </tr>\n",
       "            <tr>\n",
       "                        <th id=\"T_f99783fa_c73c_11e9_a44d_f430b9c5d8b0level0_row6\" class=\"row_heading level0 row6\" >34</th>\n",
       "                        <td id=\"T_f99783fa_c73c_11e9_a44d_f430b9c5d8b0row6_col0\" class=\"data row6 col0\" >10</td>\n",
       "            </tr>\n",
       "            <tr>\n",
       "                        <th id=\"T_f99783fa_c73c_11e9_a44d_f430b9c5d8b0level0_row7\" class=\"row_heading level0 row7\" >29</th>\n",
       "                        <td id=\"T_f99783fa_c73c_11e9_a44d_f430b9c5d8b0row7_col0\" class=\"data row7 col0\" >10</td>\n",
       "            </tr>\n",
       "            <tr>\n",
       "                        <th id=\"T_f99783fa_c73c_11e9_a44d_f430b9c5d8b0level0_row8\" class=\"row_heading level0 row8\" >1</th>\n",
       "                        <td id=\"T_f99783fa_c73c_11e9_a44d_f430b9c5d8b0row8_col0\" class=\"data row8 col0\" >9</td>\n",
       "            </tr>\n",
       "            <tr>\n",
       "                        <th id=\"T_f99783fa_c73c_11e9_a44d_f430b9c5d8b0level0_row9\" class=\"row_heading level0 row9\" >24</th>\n",
       "                        <td id=\"T_f99783fa_c73c_11e9_a44d_f430b9c5d8b0row9_col0\" class=\"data row9 col0\" >9</td>\n",
       "            </tr>\n",
       "            <tr>\n",
       "                        <th id=\"T_f99783fa_c73c_11e9_a44d_f430b9c5d8b0level0_row10\" class=\"row_heading level0 row10\" >2</th>\n",
       "                        <td id=\"T_f99783fa_c73c_11e9_a44d_f430b9c5d8b0row10_col0\" class=\"data row10 col0\" >9</td>\n",
       "            </tr>\n",
       "            <tr>\n",
       "                        <th id=\"T_f99783fa_c73c_11e9_a44d_f430b9c5d8b0level0_row11\" class=\"row_heading level0 row11\" >19</th>\n",
       "                        <td id=\"T_f99783fa_c73c_11e9_a44d_f430b9c5d8b0row11_col0\" class=\"data row11 col0\" >9</td>\n",
       "            </tr>\n",
       "    </tbody></table>"
      ],
      "text/plain": [
       "<pandas.io.formats.style.Styler at 0x1b30f6986c8>"
      ]
     },
     "execution_count": 92,
     "metadata": {},
     "output_type": "execute_result"
    }
   ],
   "source": [
    "print('Winning Number Frequencies')\n",
    "toto_result_df[toto_result_df['Win'] == 1]\\\n",
    "    .groupby('Win Number').count().iloc[:, [0]]\\\n",
    "    .rename(columns={'Win Type': 'Count'})\\\n",
    "    .sort_values(by='Count', ascending=False).head(12).style"
   ]
  },
  {
   "cell_type": "code",
   "execution_count": 91,
   "metadata": {},
   "outputs": [
    {
     "data": {
      "text/plain": [
       "Text(0.5, 0, 'Number of Occurences for Winning Number')"
      ]
     },
     "execution_count": 91,
     "metadata": {},
     "output_type": "execute_result"
    },
    {
     "data": {
      "image/png": "[encoded data removed]",
      "text/plain": [
       "<Figure size 432x288 with 1 Axes>"
      ]
     },
     "metadata": {
      "needs_background": "light"
     },
     "output_type": "display_data"
    },
    {
     "data": {
      "image/png": "[encoded data removed]",
      "text/plain": [
       "<Figure size 720x720 with 1 Axes>"
      ]
     },
     "metadata": {
      "needs_background": "light"
     },
     "output_type": "display_data"
    }
   ],
   "source": [
    "### Plot out histogram of number occurences frequencies ###\n",
    "toto_result_df[toto_result_df['Win'] == 1]\\\n",
    "    .groupby('Win Number').count().iloc[:, 0].sort_values(ascending=False)\\\n",
    "    .plot(\n",
    "        kind='hist',\n",
    "        title='Count of Winning Numbers vs Number of Occurences for Winning Numbers',\n",
    "        color='g',\n",
    "        bins=13\n",
    "    ).set_xlabel('Number of Occurences for Winning Numbers')\n",
    "toto_result_df[toto_result_df['Win'] == 1]\\\n",
    "    .groupby('Win Number').count().iloc[:, [0]]\\\n",
    "    .rename(columns={'Win Type': 'Count'})\\\n",
    "    .sort_values(by='Count')\\\n",
    "    .plot(\n",
    "        kind='barh', \n",
    "        figsize=(10, 10),\n",
    "        title='Number of Occurences for each Winning Numbers'\n",
    "    ).set_xlabel('Number of Occurences for Winning Number')"
   ]
  },
  {
   "cell_type": "code",
   "execution_count": null,
   "metadata": {},
   "outputs": [],
   "source": []
  }
 ],
 "metadata": {
  "kernelspec": {
   "display_name": "Python 3",
   "language": "python",
   "name": "python3"
  },
  "language_info": {
   "codemirror_mode": {
    "name": "ipython",
    "version": 3
   },
   "file_extension": ".py",
   "mimetype": "text/x-python",
   "name": "python",
   "nbconvert_exporter": "python",
   "pygments_lexer": "ipython3",
   "version": "3.7.4"
  }
 },
 "nbformat": 4,
 "nbformat_minor": 2
}
