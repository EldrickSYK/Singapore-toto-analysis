{
 "cells": [
  {
   "cell_type": "markdown",
   "metadata": {},
   "source": [
    "# Analysis of Toto Results\n",
    "From 27 Dec 2021 - 26 Dec 2024"
   ]
  },
  {
   "cell_type": "code",
   "execution_count": 16,
   "metadata": {},
   "outputs": [],
   "source": [
    "import pandas as pd\n",
    "import numpy as np\n",
    "import matplotlib.pyplot as plt\n",
    "\n",
    "results = pd.read_csv('results/toto_results.csv', index_col=0)\n",
    "locations = pd.read_csv('results/toto_win_locations.csv', index_col=0)\n",
    "\n",
    "total_draws = results.index.nunique()"
   ]
  },
  {
   "cell_type": "code",
   "execution_count": 17,
   "metadata": {},
   "outputs": [
    {
     "name": "stdout",
     "output_type": "stream",
     "text": [
      "2024-12-30\n"
     ]
    }
   ],
   "source": [
    "dates = results['Date'].unique()\n",
    "print(dates.max())"
   ]
  },
  {
   "cell_type": "code",
   "execution_count": 28,
   "metadata": {},
   "outputs": [
    {
     "name": "stdout",
     "output_type": "stream",
     "text": [
      "2198\n"
     ]
    },
    {
     "data": {
      "text/html": [
       "<div>\n",
       "<style scoped>\n",
       "    .dataframe tbody tr th:only-of-type {\n",
       "        vertical-align: middle;\n",
       "    }\n",
       "\n",
       "    .dataframe tbody tr th {\n",
       "        vertical-align: top;\n",
       "    }\n",
       "\n",
       "    .dataframe thead th {\n",
       "        text-align: right;\n",
       "    }\n",
       "</style>\n",
       "<table border=\"1\" class=\"dataframe\">\n",
       "  <thead>\n",
       "    <tr style=\"text-align: right;\">\n",
       "      <th></th>\n",
       "      <th>Date</th>\n",
       "      <th>Win Number</th>\n",
       "      <th>Win Type</th>\n",
       "    </tr>\n",
       "  </thead>\n",
       "  <tbody>\n",
       "    <tr>\n",
       "      <th>0</th>\n",
       "      <td>2024-12-26</td>\n",
       "      <td>39</td>\n",
       "      <td>additional</td>\n",
       "    </tr>\n",
       "    <tr>\n",
       "      <th>1</th>\n",
       "      <td>2024-12-26</td>\n",
       "      <td>8</td>\n",
       "      <td>win</td>\n",
       "    </tr>\n",
       "    <tr>\n",
       "      <th>2</th>\n",
       "      <td>2024-12-26</td>\n",
       "      <td>21</td>\n",
       "      <td>win</td>\n",
       "    </tr>\n",
       "    <tr>\n",
       "      <th>3</th>\n",
       "      <td>2024-12-26</td>\n",
       "      <td>30</td>\n",
       "      <td>win</td>\n",
       "    </tr>\n",
       "    <tr>\n",
       "      <th>4</th>\n",
       "      <td>2024-12-26</td>\n",
       "      <td>35</td>\n",
       "      <td>win</td>\n",
       "    </tr>\n",
       "    <tr>\n",
       "      <th>5</th>\n",
       "      <td>2024-12-26</td>\n",
       "      <td>44</td>\n",
       "      <td>win</td>\n",
       "    </tr>\n",
       "    <tr>\n",
       "      <th>6</th>\n",
       "      <td>2024-12-26</td>\n",
       "      <td>49</td>\n",
       "      <td>win</td>\n",
       "    </tr>\n",
       "  </tbody>\n",
       "</table>\n",
       "</div>"
      ],
      "text/plain": [
       "         Date  Win Number    Win Type\n",
       "0  2024-12-26          39  additional\n",
       "1  2024-12-26           8         win\n",
       "2  2024-12-26          21         win\n",
       "3  2024-12-26          30         win\n",
       "4  2024-12-26          35         win\n",
       "5  2024-12-26          44         win\n",
       "6  2024-12-26          49         win"
      ]
     },
     "execution_count": 28,
     "metadata": {},
     "output_type": "execute_result"
    }
   ],
   "source": [
    "print(total_draws)\n",
    "results.head(7)\n"
   ]
  },
  {
   "cell_type": "code",
   "execution_count": 19,
   "metadata": {},
   "outputs": [
    {
     "data": {
      "image/png": "[encoded data removed]",
      "text/plain": [
       "<Figure size 1000x600 with 1 Axes>"
      ]
     },
     "metadata": {},
     "output_type": "display_data"
    }
   ],
   "source": [
    "# Count the numbers\n",
    "number_counts = results['Win Number'].value_counts().sort_index()\n",
    "\n",
    "# Convert Series to DataFrame\n",
    "number_counts_df = number_counts.to_frame(name='Count')\n",
    "\n",
    "# Add a new column 'Odd or Even'\n",
    "number_counts_df['Odd or Even'] = number_counts_df.index % 2 == 0 # True if even, False if odd\n",
    "\n",
    "# Plot the histogram\n",
    "plt.figure(figsize=(10, 6))  # Adjust the width and height as needed\n",
    "number_counts_df['Count'].plot(kind='bar', color=number_counts_df['Odd or Even'].map({True: 'blue', False: 'red'}))\n",
    "plt.legend(labels=['Odd', 'Even'])\n",
    "plt.xlabel('Win Number')\n",
    "plt.ylabel('Count')\n",
    "plt.title('Histogram of Win Numbers')\n",
    "plt.show()"
   ]
  },
  {
   "cell_type": "code",
   "execution_count": 31,
   "metadata": {},
   "outputs": [
    {
     "data": {
      "text/html": [
       "<div>\n",
       "<style scoped>\n",
       "    .dataframe tbody tr th:only-of-type {\n",
       "        vertical-align: middle;\n",
       "    }\n",
       "\n",
       "    .dataframe tbody tr th {\n",
       "        vertical-align: top;\n",
       "    }\n",
       "\n",
       "    .dataframe thead th {\n",
       "        text-align: right;\n",
       "    }\n",
       "</style>\n",
       "<table border=\"1\" class=\"dataframe\">\n",
       "  <thead>\n",
       "    <tr style=\"text-align: right;\">\n",
       "      <th></th>\n",
       "      <th>Count</th>\n",
       "      <th>Odd or Even</th>\n",
       "    </tr>\n",
       "    <tr>\n",
       "      <th>Win Number</th>\n",
       "      <th></th>\n",
       "      <th></th>\n",
       "    </tr>\n",
       "  </thead>\n",
       "  <tbody>\n",
       "    <tr>\n",
       "      <th>28</th>\n",
       "      <td>65</td>\n",
       "      <td>True</td>\n",
       "    </tr>\n",
       "    <tr>\n",
       "      <th>37</th>\n",
       "      <td>59</td>\n",
       "      <td>False</td>\n",
       "    </tr>\n",
       "    <tr>\n",
       "      <th>49</th>\n",
       "      <td>58</td>\n",
       "      <td>False</td>\n",
       "    </tr>\n",
       "    <tr>\n",
       "      <th>12</th>\n",
       "      <td>56</td>\n",
       "      <td>True</td>\n",
       "    </tr>\n",
       "    <tr>\n",
       "      <th>1</th>\n",
       "      <td>55</td>\n",
       "      <td>False</td>\n",
       "    </tr>\n",
       "    <tr>\n",
       "      <th>10</th>\n",
       "      <td>54</td>\n",
       "      <td>True</td>\n",
       "    </tr>\n",
       "    <tr>\n",
       "      <th>44</th>\n",
       "      <td>54</td>\n",
       "      <td>True</td>\n",
       "    </tr>\n",
       "    <tr>\n",
       "      <th>15</th>\n",
       "      <td>53</td>\n",
       "      <td>False</td>\n",
       "    </tr>\n",
       "    <tr>\n",
       "      <th>22</th>\n",
       "      <td>52</td>\n",
       "      <td>True</td>\n",
       "    </tr>\n",
       "    <tr>\n",
       "      <th>16</th>\n",
       "      <td>50</td>\n",
       "      <td>True</td>\n",
       "    </tr>\n",
       "    <tr>\n",
       "      <th>8</th>\n",
       "      <td>50</td>\n",
       "      <td>True</td>\n",
       "    </tr>\n",
       "    <tr>\n",
       "      <th>45</th>\n",
       "      <td>50</td>\n",
       "      <td>False</td>\n",
       "    </tr>\n",
       "    <tr>\n",
       "      <th>31</th>\n",
       "      <td>50</td>\n",
       "      <td>False</td>\n",
       "    </tr>\n",
       "    <tr>\n",
       "      <th>13</th>\n",
       "      <td>50</td>\n",
       "      <td>False</td>\n",
       "    </tr>\n",
       "    <tr>\n",
       "      <th>6</th>\n",
       "      <td>49</td>\n",
       "      <td>True</td>\n",
       "    </tr>\n",
       "  </tbody>\n",
       "</table>\n",
       "</div>"
      ],
      "text/plain": [
       "            Count  Odd or Even\n",
       "Win Number                    \n",
       "28             65         True\n",
       "37             59        False\n",
       "49             58        False\n",
       "12             56         True\n",
       "1              55        False\n",
       "10             54         True\n",
       "44             54         True\n",
       "15             53        False\n",
       "22             52         True\n",
       "16             50         True\n",
       "8              50         True\n",
       "45             50        False\n",
       "31             50        False\n",
       "13             50        False\n",
       "6              49         True"
      ]
     },
     "execution_count": 31,
     "metadata": {},
     "output_type": "execute_result"
    }
   ],
   "source": [
    "## Show the Win Numbers with the smallest counts\n",
    "number_counts_df.sort_index().sort_values(by='Count', ascending=False).head(15)"
   ]
  },
  {
   "cell_type": "code",
   "execution_count": 21,
   "metadata": {},
   "outputs": [
    {
     "name": "stdout",
     "output_type": "stream",
     "text": [
      "2024-12-30\n",
      "Win Number\n",
      "47    32\n",
      "19    34\n",
      "9     37\n",
      "23    38\n",
      "27    38\n",
      "5     38\n",
      "14    38\n",
      "42    39\n",
      "26    39\n",
      "11    39\n",
      "Name: count, dtype: int64\n"
     ]
    }
   ],
   "source": [
    "# remove latest draw\n",
    "latest_draw_date = results[\"Date\"].max()\n",
    "print(latest_draw_date)\n",
    "results = results[results[\"Date\"] != latest_draw_date]\n",
    "\n",
    "# Count the numbers\n",
    "number_counts = results['Win Number'].value_counts().sort_index().sort_values()\n",
    "print(number_counts.head(10))\n",
    "# 8, 21, 30, 35, 44, 49, 39\n"
   ]
  },
  {
   "cell_type": "code",
   "execution_count": 22,
   "metadata": {},
   "outputs": [
    {
     "name": "stdout",
     "output_type": "stream",
     "text": [
      "Mean of odd numbers: 43.44\n",
      "Mean of even numbers: 46.625\n",
      "t-statistic: 1.6066093535074768\n",
      "p-value: 0.11483859812677245\n"
     ]
    }
   ],
   "source": [
    "from scipy.stats import ttest_ind\n",
    "\n",
    "# Split the odd and even numbers into different dataframes\n",
    "odd_numbers = number_counts_df[number_counts_df['Odd or Even'] == False]\n",
    "even_numbers = number_counts_df[number_counts_df['Odd or Even'] == True]\n",
    "\n",
    "print(f\"Mean of odd numbers: {odd_numbers['Count'].mean()}\")\n",
    "print(f\"Mean of even numbers: {even_numbers['Count'].mean()}\")\n",
    "# Perform t-test\n",
    "t_stat, p_value = ttest_ind(even_numbers['Count'], odd_numbers['Count'])\n",
    "print('t-statistic:', t_stat)\n",
    "print('p-value:', p_value)"
   ]
  },
  {
   "cell_type": "code",
   "execution_count": 23,
   "metadata": {},
   "outputs": [
    {
     "name": "stdout",
     "output_type": "stream",
     "text": [
      "t-statistic: 0.2006282189801797\n",
      "p-value: 0.841854960170487\n"
     ]
    }
   ],
   "source": [
    "# Split the 1-24 and 25-49 numbers into different dataframes\n",
    "bot_half_numbers = number_counts_df[number_counts_df.index < 25]\n",
    "top_half_numbers = number_counts_df[number_counts_df.index >= 25]\n",
    "\n",
    "# Perform t-test\n",
    "t_stat, p_value = ttest_ind(bot_half_numbers['Count'], top_half_numbers['Count'])\n",
    "print('t-statistic:', t_stat)\n",
    "print('p-value:', p_value)"
   ]
  },
  {
   "cell_type": "code",
   "execution_count": 24,
   "metadata": {},
   "outputs": [
    {
     "name": "stdout",
     "output_type": "stream",
     "text": [
      "t-statistic: 0.5989890355774979\n",
      "p-value: 0.5520565572080192\n"
     ]
    }
   ],
   "source": [
    "Fibonacci = [1, 2, 3, 5, 8, 13, 21, 34]\n",
    "Fibonacci_numbers = number_counts_df[number_counts_df.index.isin(Fibonacci)]\n",
    "Non_Fibonacci_numbers = number_counts_df[~number_counts_df.index.isin(Fibonacci)]\n",
    "\n",
    "# Perform t-test\n",
    "t_stat, p_value = ttest_ind(Fibonacci_numbers['Count'], Non_Fibonacci_numbers['Count'])\n",
    "print('t-statistic:', t_stat)\n",
    "print('p-value:', p_value)"
   ]
  },
  {
   "cell_type": "code",
   "execution_count": 25,
   "metadata": {},
   "outputs": [
    {
     "name": "stdout",
     "output_type": "stream",
     "text": [
      "Mean of numbers ending with eight: 43.44\n",
      "Mean of numbers not ending with eight: 46.625\n",
      "t-statistic: 1.051162987041134\n",
      "p-value: 0.29804431661552316\n"
     ]
    }
   ],
   "source": [
    "eight = [8, 18, 28, 38, 48]\n",
    "eight = number_counts_df[number_counts_df.index.isin(eight)]\n",
    "non_eight = number_counts_df[~number_counts_df.index.isin(eight)]\n",
    "\n",
    "print(f\"Mean of numbers ending with eight: {odd_numbers['Count'].mean()}\")\n",
    "print(f\"Mean of numbers not ending with eight: {even_numbers['Count'].mean()}\")\n",
    "\n",
    "# Perform t-test\n",
    "t_stat, p_value = ttest_ind(eight['Count'], non_eight['Count'])\n",
    "print('t-statistic:', t_stat)\n",
    "print('p-value:', p_value)"
   ]
  }
 ],
 "metadata": {
  "kernelspec": {
   "display_name": ".venv",
   "language": "python",
   "name": "python3"
  },
  "language_info": {
   "codemirror_mode": {
    "name": "ipython",
    "version": 3
   },
   "file_extension": ".py",
   "mimetype": "text/x-python",
   "name": "python",
   "nbconvert_exporter": "python",
   "pygments_lexer": "ipython3",
   "version": "3.9.6"
  }
 },
 "nbformat": 4,
 "nbformat_minor": 2
}
