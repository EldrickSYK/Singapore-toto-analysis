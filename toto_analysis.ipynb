{
 "cells": [
  {
   "cell_type": "markdown",
   "metadata": {},
   "source": [
    "# Analysis of Toto Results\n",
    "From 27 Dec 2021 - 26 Dec 2024"
   ]
  },
  {
   "cell_type": "code",
   "execution_count": 1,
   "metadata": {},
   "outputs": [],
   "source": [
    "import pandas as pd\n",
    "import numpy as np\n",
    "import matplotlib.pyplot as plt\n",
    "\n",
    "results = pd.read_csv('results/toto_results.csv')\n",
    "locations = pd.read_csv('results/toto_win_locations.csv')\n",
    "\n",
    "total_draws = results.index.nunique()"
   ]
  },
  {
   "cell_type": "code",
   "execution_count": 4,
   "metadata": {},
   "outputs": [
    {
     "name": "stdout",
     "output_type": "stream",
     "text": [
      "2024-12-30 00:00:00\n"
     ]
    }
   ],
   "source": [
    "dates = results['Date'].unique()\n",
    "print(dates.max())"
   ]
  },
  {
   "cell_type": "code",
   "execution_count": 48,
   "metadata": {},
   "outputs": [
    {
     "name": "stdout",
     "output_type": "stream",
     "text": [
      "314\n",
      "<class 'pandas.core.indexes.base.Index'>\n"
     ]
    }
   ],
   "source": [
    "print(total_draws)\n",
    "results.head()\n"
   ]
  },
  {
   "cell_type": "code",
   "execution_count": 50,
   "metadata": {},
   "outputs": [
    {
     "data": {
      "image/png": "[encoded data removed]",
      "text/plain": [
       "<Figure size 1000x600 with 1 Axes>"
      ]
     },
     "metadata": {},
     "output_type": "display_data"
    }
   ],
   "source": [
    "# Count the numbers\n",
    "number_counts = results['Win Number'].value_counts().sort_index()\n",
    "\n",
    "# Convert Series to DataFrame\n",
    "number_counts_df = number_counts.to_frame(name='Count')\n",
    "\n",
    "# Add a new column 'Odd or Even'\n",
    "number_counts_df['Odd or Even'] = number_counts_df.index % 2 == 0 # True if even, False if odd\n",
    "\n",
    "# Plot the histogram\n",
    "plt.figure(figsize=(10, 6))  # Adjust the width and height as needed\n",
    "number_counts_df['Count'].plot(kind='bar', color=number_counts_df['Odd or Even'].map({True: 'blue', False: 'red'}))\n",
    "plt.legend(labels=['Odd', 'Even'])\n",
    "plt.xlabel('Win Number')\n",
    "plt.ylabel('Count')\n",
    "plt.title('Histogram of Win Numbers')\n",
    "plt.show()"
   ]
  },
  {
   "cell_type": "code",
   "execution_count": 54,
   "metadata": {},
   "outputs": [
    {
     "data": {
      "text/html": [
       "<div>\n",
       "<style scoped>\n",
       "    .dataframe tbody tr th:only-of-type {\n",
       "        vertical-align: middle;\n",
       "    }\n",
       "\n",
       "    .dataframe tbody tr th {\n",
       "        vertical-align: top;\n",
       "    }\n",
       "\n",
       "    .dataframe thead th {\n",
       "        text-align: right;\n",
       "    }\n",
       "</style>\n",
       "<table border=\"1\" class=\"dataframe\">\n",
       "  <thead>\n",
       "    <tr style=\"text-align: right;\">\n",
       "      <th></th>\n",
       "      <th>Count</th>\n",
       "      <th>Odd or Even</th>\n",
       "    </tr>\n",
       "    <tr>\n",
       "      <th>Win Number</th>\n",
       "      <th></th>\n",
       "      <th></th>\n",
       "    </tr>\n",
       "  </thead>\n",
       "  <tbody>\n",
       "    <tr>\n",
       "      <th>47</th>\n",
       "      <td>32</td>\n",
       "      <td>False</td>\n",
       "    </tr>\n",
       "    <tr>\n",
       "      <th>19</th>\n",
       "      <td>34</td>\n",
       "      <td>False</td>\n",
       "    </tr>\n",
       "    <tr>\n",
       "      <th>9</th>\n",
       "      <td>37</td>\n",
       "      <td>False</td>\n",
       "    </tr>\n",
       "    <tr>\n",
       "      <th>23</th>\n",
       "      <td>38</td>\n",
       "      <td>False</td>\n",
       "    </tr>\n",
       "    <tr>\n",
       "      <th>27</th>\n",
       "      <td>38</td>\n",
       "      <td>False</td>\n",
       "    </tr>\n",
       "    <tr>\n",
       "      <th>5</th>\n",
       "      <td>38</td>\n",
       "      <td>False</td>\n",
       "    </tr>\n",
       "    <tr>\n",
       "      <th>14</th>\n",
       "      <td>38</td>\n",
       "      <td>True</td>\n",
       "    </tr>\n",
       "    <tr>\n",
       "      <th>42</th>\n",
       "      <td>39</td>\n",
       "      <td>True</td>\n",
       "    </tr>\n",
       "    <tr>\n",
       "      <th>26</th>\n",
       "      <td>39</td>\n",
       "      <td>True</td>\n",
       "    </tr>\n",
       "    <tr>\n",
       "      <th>11</th>\n",
       "      <td>39</td>\n",
       "      <td>False</td>\n",
       "    </tr>\n",
       "  </tbody>\n",
       "</table>\n",
       "</div>"
      ],
      "text/plain": [
       "            Count  Odd or Even\n",
       "Win Number                    \n",
       "47             32        False\n",
       "19             34        False\n",
       "9              37        False\n",
       "23             38        False\n",
       "27             38        False\n",
       "5              38        False\n",
       "14             38         True\n",
       "42             39         True\n",
       "26             39         True\n",
       "11             39        False"
      ]
     },
     "execution_count": 54,
     "metadata": {},
     "output_type": "execute_result"
    }
   ],
   "source": [
    "## Show the Win Numbers with the smallest counts\n",
    "number_counts_df.sort_index().sort_values(by='Count').head(10)"
   ]
  },
  {
   "cell_type": "code",
   "execution_count": 55,
   "metadata": {},
   "outputs": [
    {
     "name": "stdout",
     "output_type": "stream",
     "text": [
      "2024-12-26\n",
      "Win Number\n",
      "47    32\n",
      "19    34\n",
      "9     37\n",
      "39    38\n",
      "23    38\n",
      "27    38\n",
      "5     38\n",
      "14    38\n",
      "26    39\n",
      "11    39\n",
      "Name: count, dtype: int64\n"
     ]
    }
   ],
   "source": [
    "# remove latest draw\n",
    "latest_draw_date = results[\"Date\"].max()\n",
    "print(latest_draw_date)\n",
    "results = results[results[\"Date\"] != latest_draw_date]\n",
    "\n",
    "# Count the numbers\n",
    "number_counts = results['Win Number'].value_counts().sort_index().sort_values()\n",
    "print(number_counts.head(10))\n",
    "# 8, 21, 30, 35, 44, 49, 39\n"
   ]
  },
  {
   "cell_type": "code",
   "execution_count": 35,
   "metadata": {},
   "outputs": [
    {
     "name": "stdout",
     "output_type": "stream",
     "text": [
      "Mean of odd numbers: 43.32\n",
      "Mean of even numbers: 46.458333333333336\n",
      "t-statistic: 1.5790206700462943\n",
      "p-value: 0.1210387903883322\n"
     ]
    }
   ],
   "source": [
    "from scipy.stats import ttest_ind\n",
    "\n",
    "# Split the odd and even numbers into different dataframes\n",
    "odd_numbers = number_counts_df[number_counts_df['Odd or Even'] == False]\n",
    "even_numbers = number_counts_df[number_counts_df['Odd or Even'] == True]\n",
    "\n",
    "print(f\"Mean of odd numbers: {odd_numbers['Count'].mean()}\")\n",
    "print(f\"Mean of even numbers: {even_numbers['Count'].mean()}\")\n",
    "# Perform t-test\n",
    "t_stat, p_value = ttest_ind(even_numbers['Count'], odd_numbers['Count'])\n",
    "print('t-statistic:', t_stat)\n",
    "print('p-value:', p_value)"
   ]
  },
  {
   "cell_type": "code",
   "execution_count": 33,
   "metadata": {},
   "outputs": [
    {
     "name": "stdout",
     "output_type": "stream",
     "text": [
      "t-statistic: 0.1773855553636044\n",
      "p-value: 0.8599678246272873\n"
     ]
    }
   ],
   "source": [
    "# Split the 1-24 and 25-49 numbers into different dataframes\n",
    "bot_half_numbers = number_counts_df[number_counts_df.index < 25]\n",
    "top_half_numbers = number_counts_df[number_counts_df.index >= 25]\n",
    "\n",
    "# Perform t-test\n",
    "t_stat, p_value = ttest_ind(bot_half_numbers['Count'], top_half_numbers['Count'])\n",
    "print('t-statistic:', t_stat)\n",
    "print('p-value:', p_value)"
   ]
  },
  {
   "cell_type": "code",
   "execution_count": 34,
   "metadata": {},
   "outputs": [
    {
     "name": "stdout",
     "output_type": "stream",
     "text": [
      "t-statistic: 0.5510700516959777\n",
      "p-value: 0.5841959526612801\n"
     ]
    }
   ],
   "source": [
    "Fibonacci = [1, 2, 3, 5, 8, 13, 21, 34]\n",
    "Fibonacci_numbers = number_counts_df[number_counts_df.index.isin(Fibonacci)]\n",
    "Non_Fibonacci_numbers = number_counts_df[~number_counts_df.index.isin(Fibonacci)]\n",
    "\n",
    "# Perform t-test\n",
    "t_stat, p_value = ttest_ind(Fibonacci_numbers['Count'], Non_Fibonacci_numbers['Count'])\n",
    "print('t-statistic:', t_stat)\n",
    "print('p-value:', p_value)"
   ]
  },
  {
   "cell_type": "code",
   "execution_count": 36,
   "metadata": {},
   "outputs": [
    {
     "name": "stdout",
     "output_type": "stream",
     "text": [
      "Mean of numbers ending with eight: 43.32\n",
      "Mean of numbers not ending with eight: 46.458333333333336\n",
      "t-statistic: 1.030759647311221\n",
      "p-value: 0.3074241078835729\n"
     ]
    }
   ],
   "source": [
    "eight = [8, 18, 28, 38, 48]\n",
    "eight = number_counts_df[number_counts_df.index.isin(eight)]\n",
    "non_eight = number_counts_df[~number_counts_df.index.isin(eight)]\n",
    "\n",
    "print(f\"Mean of numbers ending with eight: {odd_numbers['Count'].mean()}\")\n",
    "print(f\"Mean of numbers not ending with eight: {even_numbers['Count'].mean()}\")\n",
    "\n",
    "# Perform t-test\n",
    "t_stat, p_value = ttest_ind(eight['Count'], non_eight['Count'])\n",
    "print('t-statistic:', t_stat)\n",
    "print('p-value:', p_value)"
   ]
  }
 ],
 "metadata": {
  "kernelspec": {
   "display_name": ".venv",
   "language": "python",
   "name": "python3"
  },
  "language_info": {
   "codemirror_mode": {
    "name": "ipython",
    "version": 3
   },
   "file_extension": ".py",
   "mimetype": "text/x-python",
   "name": "python",
   "nbconvert_exporter": "python",
   "pygments_lexer": "ipython3",
   "version": "3.9.6"
  }
 },
 "nbformat": 4,
 "nbformat_minor": 2
}
